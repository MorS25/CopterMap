{
 "metadata": {
  "name": "",
  "signature": "sha256:ebf3403e1d6cdf94f0bf0f1cab073f0c81c33dcbd932c590151cffb5757ac2ab"
 },
 "nbformat": 3,
 "nbformat_minor": 0,
 "worksheets": []
}